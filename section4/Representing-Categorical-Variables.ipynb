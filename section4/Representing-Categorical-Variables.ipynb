{
  "nbformat": 4,
  "nbformat_minor": 0,
  "metadata": {
    "colab": {
      "name": "Untitled14.ipynb",
      "provenance": []
    },
    "kernelspec": {
      "name": "python3",
      "display_name": "Python 3"
    }
  },
  "cells": [
    {
      "cell_type": "code",
      "metadata": {
        "id": "YJlt9Z7EVF_W",
        "colab_type": "code",
        "colab": {}
      },
      "source": [
        "data = [\n",
        "    {'name': 'Alan Turing', 'born': 1912, 'died': 1954},\n",
        "    {'name': 'Herbert A. Simon', 'born': 1916, 'died': 2001},\n",
        "    {'name': 'Jacek Karpinski', 'born': 1927, 'died': 2010},\n",
        "    {'name': 'J.C.R. Licklider', 'born': 1915, 'died': 1990},\n",
        "    {'name': 'Marvin Minsky', 'born': 1927, 'died': 2016},\n",
        "]"
      ],
      "execution_count": 0,
      "outputs": []
    },
    {
      "cell_type": "code",
      "metadata": {
        "id": "x0dCDBqZVWDB",
        "colab_type": "code",
        "colab": {}
      },
      "source": [
        "{'Alan Turing': 1,\n",
        " 'Herbert A. Simon': 2,\n",
        " 'Jacek Karpinsky': 3,\n",
        " 'J.C.R. Licklider': 4,\n",
        " 'Marvin Minsky': 5};"
      ],
      "execution_count": 0,
      "outputs": []
    },
    {
      "cell_type": "code",
      "metadata": {
        "id": "55rcRTqxVmXF",
        "colab_type": "code",
        "colab": {
          "base_uri": "https://localhost:8080/",
          "height": 104
        },
        "outputId": "e5d56f10-9392-447e-b3c9-2d85a88068c0"
      },
      "source": [
        "# ワンホット符号化\n",
        "from sklearn.feature_extraction import DictVectorizer\n",
        "vec = DictVectorizer(sparse=False, dtype=int)\n",
        "vec.fit_transform(data)"
      ],
      "execution_count": 4,
      "outputs": [
        {
          "output_type": "execute_result",
          "data": {
            "text/plain": [
              "array([[1912, 1954,    1,    0,    0,    0,    0],\n",
              "       [1916, 2001,    0,    1,    0,    0,    0],\n",
              "       [1927, 2010,    0,    0,    0,    1,    0],\n",
              "       [1915, 1990,    0,    0,    1,    0,    0],\n",
              "       [1927, 2016,    0,    0,    0,    0,    1]])"
            ]
          },
          "metadata": {
            "tags": []
          },
          "execution_count": 4
        }
      ]
    },
    {
      "cell_type": "code",
      "metadata": {
        "id": "eap9GrvjWTq-",
        "colab_type": "code",
        "colab": {
          "base_uri": "https://localhost:8080/",
          "height": 138
        },
        "outputId": "d74ce3a1-72c4-409a-9b07-6f3cde10218d"
      },
      "source": [
        "vec.get_feature_names()"
      ],
      "execution_count": 5,
      "outputs": [
        {
          "output_type": "execute_result",
          "data": {
            "text/plain": [
              "['born',\n",
              " 'died',\n",
              " 'name=Alan Turing',\n",
              " 'name=Herbert A. Simon',\n",
              " 'name=J.C.R. Licklider',\n",
              " 'name=Jacek Karpinski',\n",
              " 'name=Marvin Minsky']"
            ]
          },
          "metadata": {
            "tags": []
          },
          "execution_count": 5
        }
      ]
    },
    {
      "cell_type": "code",
      "metadata": {
        "id": "_Mm5tLHGWotA",
        "colab_type": "code",
        "colab": {
          "base_uri": "https://localhost:8080/",
          "height": 52
        },
        "outputId": "9c3398ac-aeb5-4886-b8a4-0b78356ef900"
      },
      "source": [
        "vec = DictVectorizer(sparse=True, dtype=int)\n",
        "vec.fit_transform(data)"
      ],
      "execution_count": 7,
      "outputs": [
        {
          "output_type": "execute_result",
          "data": {
            "text/plain": [
              "<5x7 sparse matrix of type '<class 'numpy.int64'>'\n",
              "\twith 15 stored elements in Compressed Sparse Row format>"
            ]
          },
          "metadata": {
            "tags": []
          },
          "execution_count": 7
        }
      ]
    },
    {
      "cell_type": "code",
      "metadata": {
        "id": "bFlBFJpwW6GQ",
        "colab_type": "code",
        "colab": {}
      },
      "source": [
        ""
      ],
      "execution_count": 0,
      "outputs": []
    }
  ]
}